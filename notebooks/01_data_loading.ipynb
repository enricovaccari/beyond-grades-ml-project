{
 "cells": [
  {
   "cell_type": "markdown",
   "id": "eb876ead",
   "metadata": {},
   "source": [
    "<div class=\"alert alert-block alert-success\">\n",
    "<b>NOTEBOOK 1 - Data Loading\n",
    "</div>"
   ]
  },
  {
   "cell_type": "markdown",
   "id": "b1ebb1ea",
   "metadata": {},
   "source": [
    "---\n",
    "# 1 - IMPORTS"
   ]
  },
  {
   "cell_type": "markdown",
   "id": "27f11192",
   "metadata": {},
   "source": [
    "### 1.1 - SETUP PROJECT"
   ]
  },
  {
   "cell_type": "markdown",
   "id": "3bdba990",
   "metadata": {},
   "source": [
    "In Jupyter Notebook I can't use __file__ to get to the project dir, hence the usage of Path. As you can see, I have added the relative PROJECT_PATH (containing the import.py) to sys so I can import the module in the notebook. `imports` include all of the modules that are required for the notebook to run smoothly. Make sure to check `README.md` and `requirements.txt` before running any notebooks. "
   ]
  },
  {
   "cell_type": "code",
   "execution_count": 1,
   "id": "2d91a6fd",
   "metadata": {},
   "outputs": [
    {
     "name": "stdout",
     "output_type": "stream",
     "text": [
      "Imports ready: pd, np, sns, plt, joblib, sklearn, etc.\n",
      "PROJECT_ROOT: C:\\Users\\Vaccari\\Desktop\\iCloudDrive\\Desktop\\ENRICO\\05_LEARNING\\University\\ToU\\Phases\\02_Calibration_Phase\\Applied_Machine_Learning\\Regression\\beyond-grades-ml-project\n"
     ]
    }
   ],
   "source": [
    "# Centralized setup\n",
    "import sys\n",
    "from pathlib import Path\n",
    "\n",
    "# Make sure PROJECT_PATH is in sys\n",
    "PROJECT_ROOT = Path.cwd().resolve().parent\n",
    "PROJECT_PATH = PROJECT_ROOT / \"src\" / \"project\"\n",
    "\n",
    "if str(PROJECT_PATH) not in sys.path:\n",
    "    sys.path.insert(0, str(PROJECT_PATH))\n",
    "\n",
    "# Centralized import\n",
    "from imports import *"
   ]
  },
  {
   "cell_type": "markdown",
   "id": "1474e353",
   "metadata": {},
   "source": [
    "---\n",
    "# 2 - DATASET LOAD"
   ]
  },
  {
   "cell_type": "markdown",
   "id": "cc40d887",
   "metadata": {},
   "source": [
    "### 2.1 - LOADING"
   ]
  },
  {
   "cell_type": "markdown",
   "id": "56696399",
   "metadata": {},
   "source": [
    "I used the function get.student_csv_path() (from the module utils.py) to get the path of the raw dataset. Then, I moved on to loading it through load_student_dataset()."
   ]
  },
  {
   "cell_type": "code",
   "execution_count": 8,
   "id": "2a0590af",
   "metadata": {},
   "outputs": [
    {
     "name": "stdout",
     "output_type": "stream",
     "text": [
      "Data loaded successfully.\n",
      "✅ File saved at: C:\\Users\\Vaccari\\Desktop\\iCloudDrive\\Desktop\\ENRICO\\05_LEARNING\\University\\ToU\\Phases\\02_Calibration_Phase\\Applied_Machine_Learning\\Regression\\beyond-grades-ml-project\\data\\raw\\student_performance_data_2025.xlsx\n"
     ]
    }
   ],
   "source": [
    "# Get dataset path\n",
    "dataset_path = utils.get_student_csv_path()\n",
    "# print(dataset_path)\n",
    "\n",
    "# Load dataset\n",
    "try:\n",
    "    df = utils.load_student_dataset(dataset_path)\n",
    "    print('Data loaded successfully.')\n",
    "except Exception as e:\n",
    "    print(f'An error occurred during data loading: {e}')\n",
    "\n",
    "# Save copy of raw dataset as .xslx for visual exploration\n",
    "utils.save_dataset(df, 'raw/student_performance_data_2025.xlsx')"
   ]
  },
  {
   "cell_type": "markdown",
   "id": "b17a9881",
   "metadata": {},
   "source": [
    "I quickly explored the main features of the dataset (head, info, shape). The print below shows that:\n",
    "\n",
    "- there are 15 features ()\n",
    "- 2392 entries in total\n",
    "- 6 of them (including the target `GPA`) are numerical features: `Age`, `StudyTimeWeekly`, `Absences`, `GPA`, `GradeClass`\n",
    "- 8 of them are categorical features: categorical_cols = `Gender`, `Ethnicity`, `ParentalEducation`, `Tutoring`, `ParentalSupport`, `Extracurricular`, `Sports`, `Music`, `Volunteering`\n",
    "- 1 is an identifier column: `StudentID`\n",
    "\n",
    "The table below summarizes the dataset features, their type and a short description.\n",
    "\n",
    "| Feature Name       | Type                                | Description                                                                 |\n",
    "|--------------------|-------------------------------------|-----------------------------------------------------------------------------|\n",
    "| `StudentID`          | Identifier (int64) – *to drop*      | Unique identifier for each student (not useful for modeling).               |\n",
    "| `Age`                | Numerical (int64, discrete)         | Age of the student (in years).                                              |\n",
    "| `Gender`             | Categorical (binary, int64)         | Gender of the student (e.g., 0 = female, 1 = male).                         |\n",
    "| `Ethnicity`          | Categorical (multi-class, int64)    | Student’s ethnicity group (coded numerically).                              |\n",
    "| `ParentalEducation`  | Categorical (ordinal, int64)        | Highest education level achieved by parents.                                |\n",
    "| `StudyTimeWeekly`    | Numerical (float64, continuous)     | Average weekly study time (hours).                                          |\n",
    "| `Absences`           | Numerical (int64, discrete)         | Number of school absences.                                                  |\n",
    "| `Tutoring`           | Categorical (binary, int64)         | Whether the student receives tutoring (0 = no, 1 = yes).                    |\n",
    "| `ParentalSupport`    | Categorical (ordinal, int64)        | Level of parental support (coded as ordinal values).                        |\n",
    "| `Extracurricular`    | Categorical (binary, int64)         | Participation in extracurricular activities (0 = no, 1 = yes).              |\n",
    "| `Sports`             | Categorical (binary, int64)         | Participation in sports (0 = no, 1 = yes).                                  |\n",
    "| `Music`              | Categorical (binary, int64)         | Participation in music-related activities (0 = no, 1 = yes).                |\n",
    "| `Volunteering`       | Categorical (binary, int64)         | Engagement in volunteering (0 = no, 1 = yes).                               |\n",
    "| `GPA`                | Numerical (float64, continuous)     | Grade Point Average (academic performance).                                 |\n",
    "| `GradeClass`         | Numerical (float64, continuous)     | Final grade/class score (target variable).                                  |\n"
   ]
  },
  {
   "cell_type": "markdown",
   "id": "1aa94939",
   "metadata": {},
   "source": [
    "---\n",
    "# 3 - EXPLORATION"
   ]
  },
  {
   "cell_type": "markdown",
   "id": "e77aaa54",
   "metadata": {},
   "source": [
    "To start off, I have explored the **first rows** of the dataset, gotten the **main info** and **described the features**, just to have a rough overview of what I would have had to deal with later on."
   ]
  },
  {
   "cell_type": "markdown",
   "id": "bdd87ed4",
   "metadata": {},
   "source": [
    "### 3.1 - QUICK EXPLORATION"
   ]
  },
  {
   "cell_type": "code",
   "execution_count": 3,
   "id": "fa92a8eb",
   "metadata": {},
   "outputs": [
    {
     "name": "stdout",
     "output_type": "stream",
     "text": [
      "   StudentID  Age  Gender  Ethnicity  ParentalEducation  StudyTimeWeekly  \\\n",
      "0       1001   17       1          0                  2        19.833723   \n",
      "1       1002   18       0          0                  1        15.408756   \n",
      "2       1003   15       0          2                  3         4.210570   \n",
      "3       1004   17       1          0                  3        10.028829   \n",
      "4       1005   17       1          0                  2         4.672495   \n",
      "\n",
      "   Absences  Tutoring  ParentalSupport  Extracurricular  Sports  Music  \\\n",
      "0         7         1                2                0       0      1   \n",
      "1         0         0                1                0       0      0   \n",
      "2        26         0                2                0       0      0   \n",
      "3        14         0                3                1       0      0   \n",
      "4        17         1                3                0       0      0   \n",
      "\n",
      "   Volunteering       GPA  GradeClass  \n",
      "0             0  2.929196         2.0  \n",
      "1             0  3.042915         1.0  \n",
      "2             0  0.112602         4.0  \n",
      "3             0  2.054218         3.0  \n",
      "4             0  1.288061         4.0  \n",
      "<class 'pandas.core.frame.DataFrame'>\n",
      "RangeIndex: 2392 entries, 0 to 2391\n",
      "Data columns (total 15 columns):\n",
      " #   Column             Non-Null Count  Dtype  \n",
      "---  ------             --------------  -----  \n",
      " 0   StudentID          2392 non-null   int64  \n",
      " 1   Age                2392 non-null   int64  \n",
      " 2   Gender             2392 non-null   int64  \n",
      " 3   Ethnicity          2392 non-null   int64  \n",
      " 4   ParentalEducation  2392 non-null   int64  \n",
      " 5   StudyTimeWeekly    2392 non-null   float64\n",
      " 6   Absences           2392 non-null   int64  \n",
      " 7   Tutoring           2392 non-null   int64  \n",
      " 8   ParentalSupport    2392 non-null   int64  \n",
      " 9   Extracurricular    2392 non-null   int64  \n",
      " 10  Sports             2392 non-null   int64  \n",
      " 11  Music              2392 non-null   int64  \n",
      " 12  Volunteering       2392 non-null   int64  \n",
      " 13  GPA                2392 non-null   float64\n",
      " 14  GradeClass         2392 non-null   float64\n",
      "dtypes: float64(3), int64(12)\n",
      "memory usage: 280.4 KB\n",
      "None\n",
      "         StudentID          Age       Gender    Ethnicity  ParentalEducation  \\\n",
      "count  2392.000000  2392.000000  2392.000000  2392.000000        2392.000000   \n",
      "mean   2196.500000    16.468645     0.510870     0.877508           1.746237   \n",
      "std     690.655244     1.123798     0.499986     1.028476           1.000411   \n",
      "min    1001.000000    15.000000     0.000000     0.000000           0.000000   \n",
      "25%    1598.750000    15.000000     0.000000     0.000000           1.000000   \n",
      "50%    2196.500000    16.000000     1.000000     0.000000           2.000000   \n",
      "75%    2794.250000    17.000000     1.000000     2.000000           2.000000   \n",
      "max    3392.000000    18.000000     1.000000     3.000000           4.000000   \n",
      "\n",
      "       StudyTimeWeekly     Absences     Tutoring  ParentalSupport  \\\n",
      "count      2392.000000  2392.000000  2392.000000      2392.000000   \n",
      "mean          9.771992    14.541388     0.301421         2.122074   \n",
      "std           5.652774     8.467417     0.458971         1.122813   \n",
      "min           0.001057     0.000000     0.000000         0.000000   \n",
      "25%           5.043079     7.000000     0.000000         1.000000   \n",
      "50%           9.705363    15.000000     0.000000         2.000000   \n",
      "75%          14.408410    22.000000     1.000000         3.000000   \n",
      "max          19.978094    29.000000     1.000000         4.000000   \n",
      "\n",
      "       Extracurricular       Sports        Music  Volunteering          GPA  \\\n",
      "count      2392.000000  2392.000000  2392.000000   2392.000000  2392.000000   \n",
      "mean          0.383361     0.303512     0.196906      0.157191     1.906186   \n",
      "std           0.486307     0.459870     0.397744      0.364057     0.915156   \n",
      "min           0.000000     0.000000     0.000000      0.000000     0.000000   \n",
      "25%           0.000000     0.000000     0.000000      0.000000     1.174803   \n",
      "50%           0.000000     0.000000     0.000000      0.000000     1.893393   \n",
      "75%           1.000000     1.000000     0.000000      0.000000     2.622216   \n",
      "max           1.000000     1.000000     1.000000      1.000000     4.000000   \n",
      "\n",
      "        GradeClass  \n",
      "count  2392.000000  \n",
      "mean      2.983696  \n",
      "std       1.233908  \n",
      "min       0.000000  \n",
      "25%       2.000000  \n",
      "50%       4.000000  \n",
      "75%       4.000000  \n",
      "max       4.000000  \n",
      "Dataset Shape: (2392, 15)\n",
      "Number of features: 15\n",
      "Number of samples: 2392\n"
     ]
    }
   ],
   "source": [
    "# Look at the first few rows\n",
    "print(df.head())\n",
    "\n",
    "# Get basic info about each column\n",
    "print(df.info())\n",
    "\n",
    "# Basic statistics for numerical columns\n",
    "print(df.describe())\n",
    "\n",
    "# A quick peek at the data shape\n",
    "print(\"Dataset Shape:\", df.shape)  # (rows, columns)\n",
    "print(\"Number of features:\", len(df.columns))\n",
    "print(\"Number of samples:\", len(df))"
   ]
  },
  {
   "cell_type": "markdown",
   "id": "69878e89",
   "metadata": {},
   "source": [
    "### 3.2 - DUPLICATES"
   ]
  },
  {
   "cell_type": "markdown",
   "id": "b06bc1ee",
   "metadata": {},
   "source": [
    "The dataset had been previously partially cleaned so there should not be any duplicates but let's check that. "
   ]
  },
  {
   "cell_type": "code",
   "execution_count": 4,
   "id": "7d18fb9f",
   "metadata": {},
   "outputs": [
    {
     "name": "stdout",
     "output_type": "stream",
     "text": [
      "Exact duplicates found: 0\n",
      "Total rows involved in duplication: 0\n",
      "Cleaning summary: {'original_rows': 2392, 'exact_duplicates_removed': 0, 'final_rows': 2392}\n"
     ]
    }
   ],
   "source": [
    "# Check for exact duplicates across all columns\n",
    "exact_duplicates = df.duplicated().sum()\n",
    "print(f\"Exact duplicates found: {exact_duplicates}\")\n",
    "\n",
    "# View duplicate rows\n",
    "duplicate_rows = df[df.duplicated(keep=False)]\n",
    "print(f\"Total rows involved in duplication: {len(duplicate_rows)}\")\n",
    "\n",
    "# Remove exact duplicates (keep first occurrence)\n",
    "df_cleaned = df.drop_duplicates(keep='first')\n",
    "\n",
    "# Document the cleaning decision\n",
    "cleaning_log = {\n",
    "    'original_rows': len(df),\n",
    "    'exact_duplicates_removed': len(df) - len(df_cleaned),\n",
    "    'final_rows': len(df_cleaned)\n",
    "}\n",
    "print(f\"Cleaning summary: {cleaning_log}\")"
   ]
  },
  {
   "cell_type": "markdown",
   "id": "d9f89cb6",
   "metadata": {},
   "source": [
    "As you can see, there are no duplicates withing the dataset. Let's see if there are any missing values in the columns. "
   ]
  },
  {
   "cell_type": "markdown",
   "id": "e4f01dac",
   "metadata": {},
   "source": [
    "### 3.3 - MISSING VALUES"
   ]
  },
  {
   "cell_type": "code",
   "execution_count": 5,
   "id": "58b09c6a",
   "metadata": {},
   "outputs": [
    {
     "name": "stdout",
     "output_type": "stream",
     "text": [
      "Missing values in each column:\n",
      "StudentID            0\n",
      "Age                  0\n",
      "Gender               0\n",
      "Ethnicity            0\n",
      "ParentalEducation    0\n",
      "StudyTimeWeekly      0\n",
      "Absences             0\n",
      "Tutoring             0\n",
      "ParentalSupport      0\n",
      "Extracurricular      0\n",
      "Sports               0\n",
      "Music                0\n",
      "Volunteering         0\n",
      "GPA                  0\n",
      "GradeClass           0\n",
      "dtype: int64\n"
     ]
    }
   ],
   "source": [
    "# Check for missing values\n",
    "missing_values = df_cleaned.isnull().sum()\n",
    "print('Missing values in each column:')\n",
    "print(missing_values)"
   ]
  },
  {
   "cell_type": "markdown",
   "id": "a3aee6e6",
   "metadata": {},
   "source": [
    "In this dataset, it seems there are no missing values. If I had come across missing values in the data,\n",
    "I would have considered using methods like fillna() or dropna(), based on my analytical needs and rationale, or I would have filled them with mean/median/mode after making appropriate choices (this would have been on the train set later on and would have been applied othe test set through a dedicated Pipeline so that cross-validation could have been properly performed at modeling stage).\n",
    "\n",
    "Then, I also outputted the value counts for each categorical feature and this also helped me detect any potential formatting issue or inconsistencies."
   ]
  },
  {
   "cell_type": "markdown",
   "id": "c9ac97f5",
   "metadata": {},
   "source": [
    "### 3.4 - CATEGORICAL VALUE COUNTS"
   ]
  },
  {
   "cell_type": "code",
   "execution_count": 6,
   "id": "dbf8b24a",
   "metadata": {},
   "outputs": [
    {
     "name": "stdout",
     "output_type": "stream",
     "text": [
      "Age\n",
      "15    630\n",
      "16    593\n",
      "17    587\n",
      "18    582\n",
      "Name: count, dtype: int64\n",
      "Ethnicity\n",
      "0    1207\n",
      "1     493\n",
      "2     470\n",
      "3     222\n",
      "Name: count, dtype: int64\n",
      "ParentalEducation\n",
      "2    934\n",
      "1    728\n",
      "3    367\n",
      "0    243\n",
      "4    120\n",
      "Name: count, dtype: int64\n",
      "Tutoring\n",
      "0    1671\n",
      "1     721\n",
      "Name: count, dtype: int64\n",
      "ParentalSupport\n",
      "2    740\n",
      "3    697\n",
      "1    489\n",
      "4    254\n",
      "0    212\n",
      "Name: count, dtype: int64\n",
      "Extracurricular\n",
      "0    1475\n",
      "1     917\n",
      "Name: count, dtype: int64\n",
      "Sports\n",
      "0    1666\n",
      "1     726\n",
      "Name: count, dtype: int64\n",
      "Music\n",
      "0    1921\n",
      "1     471\n",
      "Name: count, dtype: int64\n",
      "Volunteering\n",
      "0    2016\n",
      "1     376\n",
      "Name: count, dtype: int64\n"
     ]
    }
   ],
   "source": [
    "# Check for value counts for categorical features\n",
    "print(df_cleaned['Age'].value_counts())\n",
    "print(df_cleaned['Ethnicity'].value_counts())\n",
    "print(df_cleaned['ParentalEducation'].value_counts())\n",
    "print(df_cleaned['Tutoring'].value_counts())\n",
    "print(df_cleaned['ParentalSupport'].value_counts())\n",
    "print(df_cleaned['Extracurricular'].value_counts())\n",
    "print(df_cleaned['Sports'].value_counts())\n",
    "print(df_cleaned['Music'].value_counts())\n",
    "print(df_cleaned['Volunteering'].value_counts())"
   ]
  },
  {
   "cell_type": "markdown",
   "id": "4bee854b",
   "metadata": {},
   "source": [
    "As you can see above, there is nothing that catches my attention and that I should take care of regarding this aspect. "
   ]
  },
  {
   "cell_type": "markdown",
   "id": "15f6ee4b",
   "metadata": {},
   "source": [
    "### 3.5 - DATASET FEATURE SUMMARY"
   ]
  },
  {
   "cell_type": "markdown",
   "id": "ed410a52",
   "metadata": {},
   "source": [
    "Below, I have set up a feature summary to store each column's information onto a dataframe so that I could refer back to it in the future in necessary."
   ]
  },
  {
   "cell_type": "code",
   "execution_count": 9,
   "id": "4d387ad1",
   "metadata": {},
   "outputs": [
    {
     "data": {
      "text/html": [
       "<div>\n",
       "<style scoped>\n",
       "    .dataframe tbody tr th:only-of-type {\n",
       "        vertical-align: middle;\n",
       "    }\n",
       "\n",
       "    .dataframe tbody tr th {\n",
       "        vertical-align: top;\n",
       "    }\n",
       "\n",
       "    .dataframe thead th {\n",
       "        text-align: right;\n",
       "    }\n",
       "</style>\n",
       "<table border=\"1\" class=\"dataframe\">\n",
       "  <thead>\n",
       "    <tr style=\"text-align: right;\">\n",
       "      <th></th>\n",
       "      <th>Feature Name</th>\n",
       "      <th>Type</th>\n",
       "      <th>Missing Values</th>\n",
       "      <th>Unique Values</th>\n",
       "    </tr>\n",
       "  </thead>\n",
       "  <tbody>\n",
       "    <tr>\n",
       "      <th>StudentID</th>\n",
       "      <td>StudentID</td>\n",
       "      <td>int64</td>\n",
       "      <td>0.0</td>\n",
       "      <td>2392</td>\n",
       "    </tr>\n",
       "    <tr>\n",
       "      <th>Age</th>\n",
       "      <td>Age</td>\n",
       "      <td>int64</td>\n",
       "      <td>0.0</td>\n",
       "      <td>4</td>\n",
       "    </tr>\n",
       "    <tr>\n",
       "      <th>Gender</th>\n",
       "      <td>Gender</td>\n",
       "      <td>int64</td>\n",
       "      <td>0.0</td>\n",
       "      <td>2</td>\n",
       "    </tr>\n",
       "    <tr>\n",
       "      <th>Ethnicity</th>\n",
       "      <td>Ethnicity</td>\n",
       "      <td>int64</td>\n",
       "      <td>0.0</td>\n",
       "      <td>4</td>\n",
       "    </tr>\n",
       "    <tr>\n",
       "      <th>ParentalEducation</th>\n",
       "      <td>ParentalEducation</td>\n",
       "      <td>int64</td>\n",
       "      <td>0.0</td>\n",
       "      <td>5</td>\n",
       "    </tr>\n",
       "    <tr>\n",
       "      <th>StudyTimeWeekly</th>\n",
       "      <td>StudyTimeWeekly</td>\n",
       "      <td>float64</td>\n",
       "      <td>0.0</td>\n",
       "      <td>2392</td>\n",
       "    </tr>\n",
       "    <tr>\n",
       "      <th>Absences</th>\n",
       "      <td>Absences</td>\n",
       "      <td>int64</td>\n",
       "      <td>0.0</td>\n",
       "      <td>30</td>\n",
       "    </tr>\n",
       "    <tr>\n",
       "      <th>Tutoring</th>\n",
       "      <td>Tutoring</td>\n",
       "      <td>int64</td>\n",
       "      <td>0.0</td>\n",
       "      <td>2</td>\n",
       "    </tr>\n",
       "    <tr>\n",
       "      <th>ParentalSupport</th>\n",
       "      <td>ParentalSupport</td>\n",
       "      <td>int64</td>\n",
       "      <td>0.0</td>\n",
       "      <td>5</td>\n",
       "    </tr>\n",
       "    <tr>\n",
       "      <th>Extracurricular</th>\n",
       "      <td>Extracurricular</td>\n",
       "      <td>int64</td>\n",
       "      <td>0.0</td>\n",
       "      <td>2</td>\n",
       "    </tr>\n",
       "    <tr>\n",
       "      <th>Sports</th>\n",
       "      <td>Sports</td>\n",
       "      <td>int64</td>\n",
       "      <td>0.0</td>\n",
       "      <td>2</td>\n",
       "    </tr>\n",
       "    <tr>\n",
       "      <th>Music</th>\n",
       "      <td>Music</td>\n",
       "      <td>int64</td>\n",
       "      <td>0.0</td>\n",
       "      <td>2</td>\n",
       "    </tr>\n",
       "    <tr>\n",
       "      <th>Volunteering</th>\n",
       "      <td>Volunteering</td>\n",
       "      <td>int64</td>\n",
       "      <td>0.0</td>\n",
       "      <td>2</td>\n",
       "    </tr>\n",
       "    <tr>\n",
       "      <th>GPA</th>\n",
       "      <td>GPA</td>\n",
       "      <td>float64</td>\n",
       "      <td>0.0</td>\n",
       "      <td>2371</td>\n",
       "    </tr>\n",
       "    <tr>\n",
       "      <th>GradeClass</th>\n",
       "      <td>GradeClass</td>\n",
       "      <td>float64</td>\n",
       "      <td>0.0</td>\n",
       "      <td>5</td>\n",
       "    </tr>\n",
       "  </tbody>\n",
       "</table>\n",
       "</div>"
      ],
      "text/plain": [
       "                        Feature Name     Type  Missing Values  Unique Values\n",
       "StudentID                  StudentID    int64             0.0           2392\n",
       "Age                              Age    int64             0.0              4\n",
       "Gender                        Gender    int64             0.0              2\n",
       "Ethnicity                  Ethnicity    int64             0.0              4\n",
       "ParentalEducation  ParentalEducation    int64             0.0              5\n",
       "StudyTimeWeekly      StudyTimeWeekly  float64             0.0           2392\n",
       "Absences                    Absences    int64             0.0             30\n",
       "Tutoring                    Tutoring    int64             0.0              2\n",
       "ParentalSupport      ParentalSupport    int64             0.0              5\n",
       "Extracurricular      Extracurricular    int64             0.0              2\n",
       "Sports                        Sports    int64             0.0              2\n",
       "Music                          Music    int64             0.0              2\n",
       "Volunteering            Volunteering    int64             0.0              2\n",
       "GPA                              GPA  float64             0.0           2371\n",
       "GradeClass                GradeClass  float64             0.0              5"
      ]
     },
     "execution_count": 9,
     "metadata": {},
     "output_type": "execute_result"
    }
   ],
   "source": [
    "# Feature summary\n",
    "summary = pd.DataFrame({\n",
    "    'Feature Name': df_cleaned.columns,\n",
    "    'Type': df_cleaned.dtypes,\n",
    "    'Missing Values': df_cleaned.isnull().mean().round(2),\n",
    "    'Unique Values': df.nunique()\n",
    "})\n",
    "summary"
   ]
  },
  {
   "cell_type": "markdown",
   "id": "83571103",
   "metadata": {},
   "source": [
    "Below I have created a more in-depth summary table including notes on my understanding of the features and ethical considerations.I recommend checking out the **Assumptions / Ethical Considerations** column for each feature."
   ]
  },
  {
   "cell_type": "markdown",
   "id": "cb563c83",
   "metadata": {},
   "source": [
    "| Feature Name       | Type                                | # Datapoints | Keep/Drop | Feature/Target | Missing Values | Unique Values                                                                 | Notes                                                                 | Assumptions / Ethical Considerations                                                                 |\n",
    "|--------------------|-------------------------------------|--------------|-----------|----------------|----------------|-------------------------------------------------------------------------------|----------------------------------------------------------------------|------------------------------------------------------------------------------------------------------|\n",
    "| `StudentID`         | Identifier (int64)                  | 2392         | Drop      | –              | 0              | 2392 unique                                                                  | Dropped because it is just an identifier, not useful for modeling.   | –                                                                                                    |\n",
    "| `Age`                | Numerical (int64, discrete)         | 2392         | Keep      | Feature        | 0              | {15: 630, 16: 593, 17: 587, 18: 582}                                         | Age in years, discrete.                                              | Data balanced across ages. Need to check if age correlates with study opportunities.                 |\n",
    "| `Gender`             | Categorical (binary, int64)         | 2392         | Keep      | Feature        | 0              | 2 unique (0/1)                                                               | Binary encoded (e.g., 0 = female, 1 = male).                         | ⚠️ Potential bias: in Pakistan, females may face structural barriers (less study time, more chores). |\n",
    "| `Ethnicity`          | Categorical (multi-class, int64)    | 2392         | Keep      | Feature        | 0              | {0: 1207, 1: 493, 2: 470, 3: 222}                                            | Encoded categorical, 4 groups.                                       | Important to check whether ethnicity influences GPA unfairly due to social inequality.               |\n",
    "| `ParentalEducation`  | Categorical (ordinal, int64)        | 2392         | Keep      | Feature        | 0              | {2: 934, 1: 728, 3: 367, 0: 243, 4: 120}                                     | Ordinal scale (0–4).                                                 | Could encode socioeconomic status; may reflect inequalities in educational access.                   |\n",
    "| `StudyTimeWeekly`    | Numerical (float64, continuous)     | 2392         | Keep      | Feature        | 0              | Continuous                                                                   | Weekly average hours of study.                                       | Some values are unrealistically small (seconds). Likely tracked by an app; may reflect app usage not true study. |\n",
    "| `Absences`           | Numerical (int64, discrete)         | 2392         | Keep      | Feature        | 0              | Range of values (discrete count)                                             | Number of absences, integer.                                         | ⚠️ Females may have fewer allowed absences due to domestic responsibilities → potential bias.        |\n",
    "| `Tutoring`           | Categorical (binary, int64)         | 2392         | Keep      | Feature        | 0              | {0: 1671, 1: 721}                                                            | Whether the student receives tutoring.                               | Access to tutoring might reflect wealth/status → risk of socioeconomic bias.                         |\n",
    "| `ParentalSupport`    | Categorical (ordinal, int64)        | 2392         | Keep      | Feature        | 0              | {2: 740, 3: 697, 1: 489, 4: 254, 0: 212}                                     | Ordinal scale (0–4).                                                 | Possible subjectivity in reporting parental support → may not be consistent.                         |\n",
    "| `Extracurricular`    | Categorical (binary, int64)         | 2392         | Keep      | Feature        | 0              | {0: 1475, 1: 917}                                                            | Participation in extracurricular activities.                         | Activities may not be equally accessible to all genders or income groups.                            |\n",
    "| `Sports`             | Categorical (binary, int64)         | 2392         | Keep      | Feature        | 0              | {0: 1666, 1: 726}                                                            | Participation in sports.                                             | ⚠️ Likely male-dominated; access for females may be limited → could bias correlations with GPA.      |\n",
    "| `Music`              | Categorical (binary, int64)         | 2392         | Keep      | Feature        | 0              | {0: 1921, 1: 471}                                                            | Participation in music-related activities.                           | Need to check gender split: if one gender has more access, correlations with GPA could be biased.    |\n",
    "| `Volunteering`       | Categorical (binary, int64)         | 2392         | Keep      | Feature        | 0              | {0: 2016, 1: 376}                                                            | Volunteering activities.                                             | Access to volunteering may depend on social/gender roles.                                            |\n",
    "| `GPA`                | Numerical (float64, continuous)     | 2392         | Keep      | Target         | 0              | Continuous (many decimals)                                                   | Chosen target variable (academic performance).                       | GPA is system-calculated, very granular. Biases in opportunities (gender, SES) may influence scores. |\n",
    "| `GradeClass`         | Numerical (float64, continuous)     | 2392         | Drop      | –              | 0              | Continuous                                                                   | Dropped because GPA is already used as target; GradeClass is redundant classification. |  Directly derived from GPA.                                                                                                   |\n"
   ]
  },
  {
   "cell_type": "markdown",
   "id": "00256e3a",
   "metadata": {},
   "source": [
    "<div class=\"alert alert-block alert-info\">\n",
    "<b>Next Notebook - Data Cleaning\n",
    "</div>"
   ]
  }
 ],
 "metadata": {
  "kernelspec": {
   "display_name": "base",
   "language": "python",
   "name": "python3"
  },
  "language_info": {
   "codemirror_mode": {
    "name": "ipython",
    "version": 3
   },
   "file_extension": ".py",
   "mimetype": "text/x-python",
   "name": "python",
   "nbconvert_exporter": "python",
   "pygments_lexer": "ipython3",
   "version": "3.13.5"
  }
 },
 "nbformat": 4,
 "nbformat_minor": 5
}
